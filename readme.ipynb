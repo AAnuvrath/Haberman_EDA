{
 "cells": [
  {
   "cell_type": "markdown",
   "id": "f6cf4b3a",
   "metadata": {},
   "source": [
    "# Agenda:\n",
    "\n",
    "1. Haberman Cancer Survival dataset is from Kaggle. (https://www.kaggle.com/gilsousa/habermans-survival-data-set) \n",
    "2. The agenda of this notebook is to do extensive EDA and also get some insights from the visualizations"
   ]
  }
 ],
 "metadata": {
  "kernelspec": {
   "display_name": "Python 3",
   "language": "python",
   "name": "python3"
  },
  "language_info": {
   "codemirror_mode": {
    "name": "ipython",
    "version": 3
   },
   "file_extension": ".py",
   "mimetype": "text/x-python",
   "name": "python",
   "nbconvert_exporter": "python",
   "pygments_lexer": "ipython3",
   "version": "3.8.8"
  }
 },
 "nbformat": 4,
 "nbformat_minor": 5
}
